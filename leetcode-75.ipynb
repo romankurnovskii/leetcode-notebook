{
 "cells": [
  {
   "cell_type": "code",
   "execution_count": null,
   "id": "43308e66-819e-4d39-8822-51f14a82296e",
   "metadata": {},
   "outputs": [],
   "source": []
  },
  {
   "cell_type": "markdown",
   "id": "6cacce4e-f5cb-41c8-8e8e-2c9fbfbc33d5",
   "metadata": {},
   "source": [
    "## Array / String\n",
    "\n",
    "An array is a fundamental data structure in programming that consists of a collection of elements, each identified by at least one array index or key. Arrays are used to store data elements of the same type. They are particularly useful for storing and manipulating ordered data efficiently.\n",
    "\n",
    "When are Arrays (Lists) Used?\n",
    "\n",
    "Arrays are used in a variety of situations where a collection of elements needs to be stored such that they can be efficiently accessed, manipulated, and traversed.\n",
    "\n",
    "Here are some common scenarios where arrays are particularly useful:\n",
    "\n",
    "- Storing data: Arrays provide a way to store multiple items, such as a list of numbers, user information, etc., under a single variable.\n",
    "- Accessing elements: Arrays allow for rapid access to any element via its index, making it easy to retrieve or update elements.\n",
    "- Iterative operations: When operations need to be performed on a sequence of items, arrays can be looped through using indices or iterators.\n",
    "- Sorting and searching: Arrays are fundamental in algorithms for sorting (e.g., merge sort, quicksort) and for efficient searching (e.g., binary search).\n",
    "\n",
    "Recognizing Array Problems\n",
    "Array problems often involve manipulation or querying of a sequence of elements. You can identify that a problem might require using an array when:\n",
    "The problem mentions operations on a collection of items that are ordered or unordered.\n",
    "You need to find, replace, or remove elements based on certain conditions.\n",
    "The problem involves sorting or rearranging elements based on specific criteria.\n",
    " You are asked to track frequencies or counts of unique items.\n",
    "\n",
    "Top Patterns for Solving Array Problems\n",
    "\n",
    "1. Two-Pointer Technique\n",
    "Description: This technique uses two pointers to traverse the array, typically from opposite ends or from the same starting point, to efficiently solve problems without needing extra space.\n",
    "Common Use: Used in problems like reversing an array, finding a pair that sums to a target value, or merging two sorted arrays.\n",
    "2. Sliding Window\n",
    "Description: This involves creating a 'window' over a portion of the array which can expand or contract as needed. It's useful for finding a subset of the array that satisfies certain conditions.\n",
    "Common Use: Finding the longest substring without repeating characters, computing the maximum sum of a subarray of a fixed size.\n",
    "3. Hashing (Using Hash Maps)\n",
    "Description: Hash maps are incredibly useful for tracking the occurrences of elements in an array, allowing for quick lookups, insertions, and deletions.\n",
    "Common Use: Checking for duplicates, counting the frequency of items, or finding the first unique element.\n",
    "4. Sorting\n",
    "Description: Sorting can simplify many problems by bringing order and making it easier to process data.\n",
    "Common Use: Finding missing or additional elements, checking for the presence of a specific sequence, or simplifying the merging of intervals.\n",
    "5. Dynamic Programming\n",
    "Description: This method solves problems by breaking them into smaller subproblems and storing the results of these subproblems to avoid computing the same results multiple times.\n",
    "Common Use: Solving optimization problems such as the maximum sum subarray or the number of ways to sum to a target.\n"
   ]
  },
  {
   "cell_type": "code",
   "execution_count": null,
   "id": "2bb60890-2d9b-4123-a9e7-a6acb7780d73",
   "metadata": {},
   "outputs": [],
   "source": []
  },
  {
   "cell_type": "code",
   "execution_count": null,
   "id": "e75dafb3-2257-458c-9776-466ee4b4dfc8",
   "metadata": {},
   "outputs": [],
   "source": []
  },
  {
   "cell_type": "code",
   "execution_count": null,
   "id": "aa548baf-1bcb-48a8-8457-6369c30c788b",
   "metadata": {},
   "outputs": [],
   "source": []
  },
  {
   "cell_type": "code",
   "execution_count": 1,
   "id": "7a9ed17e-2966-4ed0-addf-52964b42c6af",
   "metadata": {},
   "outputs": [],
   "source": [
    "def mergeAlternately(word1, word2):\n",
    "    res = []\n",
    "    i = 0\n",
    "    while i < len(word1) and i < len(word2):\n",
    "        res.append(word1[i])\n",
    "        res.append(word2[i])\n",
    "        i += 1\n",
    "\n",
    "    res.append(word1[i:])  # Append remaining characters from word1\n",
    "    res.append(word2[i:])  # and word2\n",
    "    return \"\".join(res)"
   ]
  },
  {
   "cell_type": "code",
   "execution_count": 5,
   "id": "a54a0dea-08e0-43c1-ae72-d87056011896",
   "metadata": {},
   "outputs": [
    {
     "data": {
      "text/plain": [
       "'apbqrs'"
      ]
     },
     "execution_count": 5,
     "metadata": {},
     "output_type": "execute_result"
    }
   ],
   "source": [
    "word1 = \"ab\"\n",
    "word2 = \"pqrs\"\n",
    "\n",
    "mergeAlternately(word1, word2)"
   ]
  },
  {
   "cell_type": "code",
   "execution_count": null,
   "id": "f6a9ed60-ebf0-4aef-a5ce-af2089e60ac0",
   "metadata": {},
   "outputs": [],
   "source": []
  },
  {
   "cell_type": "code",
   "execution_count": null,
   "id": "376b4a52-5afd-4069-ae8d-a83ee6ba0115",
   "metadata": {},
   "outputs": [],
   "source": []
  },
  {
   "cell_type": "code",
   "execution_count": null,
   "id": "f335e3e1-2f22-4e1e-ad49-bf7e1d000f5b",
   "metadata": {},
   "outputs": [],
   "source": []
  },
  {
   "cell_type": "code",
   "execution_count": null,
   "id": "ecac897d-b35b-4c9e-bf44-a296cf60d097",
   "metadata": {},
   "outputs": [],
   "source": []
  },
  {
   "cell_type": "code",
   "execution_count": null,
   "id": "2d3e8559-1952-4946-bad8-f1ac68d07639",
   "metadata": {},
   "outputs": [],
   "source": []
  },
  {
   "cell_type": "code",
   "execution_count": null,
   "id": "c23fc727-a6e0-4ffe-9ba6-2467e9d0eaae",
   "metadata": {},
   "outputs": [],
   "source": []
  },
  {
   "cell_type": "code",
   "execution_count": null,
   "id": "ecbe3a4b-5500-4f81-9a47-e73d885a331a",
   "metadata": {},
   "outputs": [],
   "source": []
  }
 ],
 "metadata": {
  "kernelspec": {
   "display_name": "Python (SOL)",
   "language": "python",
   "name": "sol-venv"
  },
  "language_info": {
   "codemirror_mode": {
    "name": "ipython",
    "version": 3
   },
   "file_extension": ".py",
   "mimetype": "text/x-python",
   "name": "python",
   "nbconvert_exporter": "python",
   "pygments_lexer": "ipython3",
   "version": "3.13.5"
  }
 },
 "nbformat": 4,
 "nbformat_minor": 5
}
