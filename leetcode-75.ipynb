{
 "cells": [
  {
   "cell_type": "code",
   "execution_count": null,
   "id": "43308e66-819e-4d39-8822-51f14a82296e",
   "metadata": {},
   "outputs": [],
   "source": []
  },
  {
   "cell_type": "markdown",
   "id": "6cacce4e-f5cb-41c8-8e8e-2c9fbfbc33d5",
   "metadata": {},
   "source": [
    "## Array / String\n",
    "\n",
    "An array is a fundamental data structure in programming that consists of a collection of elements, each identified by at least one array index or key. Arrays are used to store data elements of the same type. They are particularly useful for storing and manipulating ordered data efficiently.\n",
    "\n",
    "When are Arrays (Lists) Used?\n",
    "\n",
    "Arrays are used in a variety of situations where a collection of elements needs to be stored such that they can be efficiently accessed, manipulated, and traversed.\n",
    "\n",
    "Here are some common scenarios where arrays are particularly useful:\n",
    "\n",
    "- Storing data: Arrays provide a way to store multiple items, such as a list of numbers, user information, etc., under a single variable.\n",
    "- Accessing elements: Arrays allow for rapid access to any element via its index, making it easy to retrieve or update elements.\n",
    "- Iterative operations: When operations need to be performed on a sequence of items, arrays can be looped through using indices or iterators.\n",
    "- Sorting and searching: Arrays are fundamental in algorithms for sorting (e.g., merge sort, quicksort) and for efficient searching (e.g., binary search).\n",
    "\n",
    "Recognizing Array Problems\n",
    "\n",
    "- Array problems often involve manipulation or querying of a sequence of elements. You can identify that a problem might require using an array when:\n",
    "- The problem mentions operations on a collection of items that are ordered or unordered.\n",
    "- You need to find, replace, or remove elements based on certain conditions.\n",
    "- The problem involves sorting or rearranging elements based on specific criteria.\n",
    "- You are asked to track frequencies or counts of unique items.\n",
    "\n",
    "Top Patterns for Solving Array Problems\n",
    "\n",
    "1. Two-Pointer Technique\n",
    "Description: This technique uses two pointers to traverse the array, typically from opposite ends or from the same starting point, to efficiently solve problems without needing extra space.\n",
    "Common Use: Used in problems like reversing an array, finding a pair that sums to a target value, or merging two sorted arrays.\n",
    "2. Sliding Window\n",
    "Description: This involves creating a 'window' over a portion of the array which can expand or contract as needed. It's useful for finding a subset of the array that satisfies certain conditions.\n",
    "Common Use: Finding the longest substring without repeating characters, computing the maximum sum of a subarray of a fixed size.\n",
    "3. Hashing (Using Hash Maps)\n",
    "Description: Hash maps are incredibly useful for tracking the occurrences of elements in an array, allowing for quick lookups, insertions, and deletions.\n",
    "Common Use: Checking for duplicates, counting the frequency of items, or finding the first unique element.\n",
    "4. Sorting\n",
    "Description: Sorting can simplify many problems by bringing order and making it easier to process data.\n",
    "Common Use: Finding missing or additional elements, checking for the presence of a specific sequence, or simplifying the merging of intervals.\n",
    "5. Dynamic Programming\n",
    "Description: This method solves problems by breaking them into smaller subproblems and storing the results of these subproblems to avoid computing the same results multiple times.\n",
    "Common Use: Solving optimization problems such as the maximum sum subarray or the number of ways to sum to a target.\n"
   ]
  },
  {
   "cell_type": "code",
   "execution_count": null,
   "id": "2bb60890-2d9b-4123-a9e7-a6acb7780d73",
   "metadata": {},
   "outputs": [],
   "source": []
  },
  {
   "cell_type": "markdown",
   "id": "d22962ea",
   "metadata": {},
   "source": [
    "### 1768. Merge Strings Alternately / Easy\n",
    "\n",
    "[https://leetcode.com/problems/merge-strings-alternately/description/](https://leetcode.com/problems/merge-strings-alternately/description/)"
   ]
  },
  {
   "cell_type": "markdown",
   "id": "4ad35406-5517-4bae-a66d-eb98a8e2c61e",
   "metadata": {},
   "source": [
    "```\n",
    "You are given two strings word1 and word2. Merge the strings by adding letters in alternating order, starting with word1. If a string is longer than the other, append the additional letters onto the end of the merged string.\n",
    "\n",
    "Return the merged string.\n",
    "\n",
    " \n",
    "Example 1:\n",
    "\n",
    "Input: word1 = \"abc\", word2 = \"pqr\"\n",
    "Output: \"apbqcr\"\n",
    "Explanation: The merged string will be merged as so:\n",
    "word1:  a   b   c\n",
    "word2:    p   q   r\n",
    "merged: a p b q c r\n",
    "Example 2:\n",
    "\n",
    "Input: word1 = \"ab\", word2 = \"pqrs\"\n",
    "Output: \"apbqrs\"\n",
    "Explanation: Notice that as word2 is longer, \"rs\" is appended to the end.\n",
    "word1:  a   b \n",
    "word2:    p   q   r   s\n",
    "merged: a p b q   r   s\n",
    "Example 3:\n",
    "\n",
    "Input: word1 = \"abcd\", word2 = \"pq\"\n",
    "Output: \"apbqcd\"\n",
    "Explanation: Notice that as word1 is longer, \"cd\" is appended to the end.\n",
    "word1:  a   b   c   d\n",
    "word2:    p   q \n",
    "merged: a p b q c   d\n",
    " \n",
    "\n",
    "Constraints:\n",
    "\n",
    "1 <= word1.length, word2.length <= 100\n",
    "word1 and word2 consist of lowercase English letters.\n",
    "```"
   ]
  },
  {
   "cell_type": "markdown",
   "id": "3b109953-832f-41f8-bb12-55a950c103ca",
   "metadata": {},
   "source": [
    "#### Explanation\n",
    "\n",
    "In most cases, LeetCode Easy problems have a straightforward solution that can be derived from the description or the examples provided.\n",
    "\n",
    "Strings can be represented in several ways, each suited for different kinds of operations:\n",
    "\n",
    "List of Characters: A string can be split into a list of its characters, allowing for easy iteration and modification. This is useful for problems where you need to manipulate individual characters or their order, also with help of indexes.\n",
    "\n",
    "Tree Structures: For complex string operations, like searching for substrings or sorting operations, Python can use advanced data structures like trie trees or suffix trees (we will cover later).\n",
    "\n",
    "Think of Strings as Lists: In Python, you can think of strings almost like lists of letters. This makes it easier to pick out each letter one by one.\n",
    "\n",
    "Merge by Alternating Letters: You'll take one letter from the first string, then one from the second string, and keep alternating like this. You add each of these letters to a new list because lists in Python can change size easily, unlike strings.\n",
    "\n",
    "When the Strings are Different Lengths?: If one string runs out of letters because it's shorter, you just continue adding the remaining letters from the longer string to the list.\n",
    "\n",
    "Turn the List Back into a String: Once all letters are in the list in the right order, you change this list back into a string."
   ]
  },
  {
   "cell_type": "code",
   "execution_count": 5,
   "id": "7a9ed17e-2966-4ed0-addf-52964b42c6af",
   "metadata": {},
   "outputs": [
    {
     "ename": "",
     "evalue": "",
     "output_type": "error",
     "traceback": [
      "\u001b[1;31mRunning cells with 'Python 3.13.5' requires the ipykernel package.\n",
      "\u001b[1;31mRun the following command to install 'ipykernel' into the Python environment. \n",
      "\u001b[1;31mCommand: '/opt/homebrew/bin/python3 -m pip install ipykernel -U --user --force-reinstall'"
     ]
    }
   ],
   "source": [
    "def mergeAlternately(word1, word2):\n",
    "    res = []\n",
    "    i = 0\n",
    "    while i < len(word1) and i < len(word2):\n",
    "        res.append(word1[i])\n",
    "        res.append(word2[i])\n",
    "        i += 1\n",
    "\n",
    "    res.append(word1[i:])  # Append remaining characters from word1\n",
    "    res.append(word2[i:])  # and word2\n",
    "    return \"\".join(res)"
   ]
  },
  {
   "cell_type": "code",
   "execution_count": null,
   "id": "a54a0dea-08e0-43c1-ae72-d87056011896",
   "metadata": {},
   "outputs": [],
   "source": [
    "word1 = \"ab\"\n",
    "word2 = \"pqrs\"\n",
    "\n",
    "mergeAlternately(word1, word2)"
   ]
  },
  {
   "cell_type": "code",
   "execution_count": null,
   "id": "f6a9ed60-ebf0-4aef-a5ce-af2089e60ac0",
   "metadata": {},
   "outputs": [],
   "source": []
  },
  {
   "cell_type": "markdown",
   "id": "1958982c",
   "metadata": {},
   "source": [
    "### 1071. Greatest Common Divisor of Strings / Easy\n",
    "\n",
    "[https://leetcode.com/problems/greatest-common-divisor-of-strings/](https://leetcode.com/problems/greatest-common-divisor-of-strings/)"
   ]
  },
  {
   "cell_type": "markdown",
   "id": "5b6e3f90",
   "metadata": {},
   "source": [
    "```\n",
    "For two strings s and t, we say \"t divides s\" if and only if s = t + t + t + ... + t + t (i.e., t is concatenated with itself one or more times).\n",
    "\n",
    "Given two strings str1 and str2, return the largest string x such that x divides both str1 and str2.\n",
    "\n",
    " \n",
    "\n",
    "Example 1:\n",
    "\n",
    "Input: str1 = \"ABCABC\", str2 = \"ABC\"\n",
    "Output: \"ABC\"\n",
    "Example 2:\n",
    "\n",
    "Input: str1 = \"ABABAB\", str2 = \"ABAB\"\n",
    "Output: \"AB\"\n",
    "Example 3:\n",
    "\n",
    "Input: str1 = \"LEET\", str2 = \"CODE\"\n",
    "Output: \"\"\n",
    " \n",
    "\n",
    "Constraints:\n",
    "\n",
    "1 <= str1.length, str2.length <= 1000\n",
    "str1 and str2 consist of English uppercase letters.\n",
    "```"
   ]
  },
  {
   "cell_type": "code",
   "execution_count": 4,
   "id": "ecac897d-b35b-4c9e-bf44-a296cf60d097",
   "metadata": {},
   "outputs": [],
   "source": [
    "from math import gcd\n",
    "\n",
    "\n",
    "def gcdOfStrings(str1: str, str2: str) -> str:\n",
    "    if str1 + str2 != str2 + str1:\n",
    "        return \"\"\n",
    "    gcd_length = gcd(len(str1), len(str2))\n",
    "    return str1[:gcd_length]"
   ]
  },
  {
   "cell_type": "code",
   "execution_count": 5,
   "id": "2f433e7d",
   "metadata": {},
   "outputs": [
    {
     "data": {
      "text/plain": [
       "'AB'"
      ]
     },
     "execution_count": 5,
     "metadata": {},
     "output_type": "execute_result"
    }
   ],
   "source": [
    "str1 = \"ABABAB\"\n",
    "str2 = \"ABAB\"\n",
    "\n",
    "gcdOfStrings(str1, str2)"
   ]
  },
  {
   "cell_type": "code",
   "execution_count": null,
   "id": "3a5c2ff6",
   "metadata": {},
   "outputs": [],
   "source": []
  },
  {
   "cell_type": "markdown",
   "id": "045c4e50-fc18-4eeb-85e1-4414fd36707d",
   "metadata": {},
   "source": [
    "### 1431. Kids With the Greatest Number of Candies / Easy\n",
    "\n",
    "https://leetcode.com/problems/kids-with-the-greatest-number-of-candies"
   ]
  },
  {
   "cell_type": "markdown",
   "id": "aef2c3e9-af9c-482d-bfd5-f2c6678aaad4",
   "metadata": {},
   "source": [
    "\\input{sections/01-array-string/151}\n",
    "\\clearpage\n",
    "\\input{sections/01-array-string/238}\n",
    "\\clearpage\n",
    "\\input{sections/01-array-string/334}\n",
    "\\clearpage\n",
    "\\input{sections/01-array-string/443}"
   ]
  },
  {
   "cell_type": "code",
   "execution_count": null,
   "id": "c6d8fea2-38b9-4292-9fc1-5c56093f93b3",
   "metadata": {},
   "outputs": [],
   "source": [
    "def kidsWithCandies(candies: list[int], extraCandies: int) -> list[bool]:\n",
    "    max_candies = max(candies)\n",
    "    result = []\n",
    "    for candy_count in candies:\n",
    "        if candy_count + extraCandies >= max_candies:\n",
    "            result.append(True)\n",
    "        else:\n",
    "            result.append(False)\n",
    "    return result\n"
   ]
  },
  {
   "cell_type": "code",
   "execution_count": null,
   "id": "2f0e7c71-c147-4e50-9b02-3f8497a240c3",
   "metadata": {},
   "outputs": [],
   "source": []
  },
  {
   "cell_type": "markdown",
   "id": "e07393e8-d11b-4931-9fed-a64f307aa96b",
   "metadata": {},
   "source": [
    "### 605. Can Place Flowers / Easy\n",
    "\n",
    "https://leetcode.com/problems/can-place-flowers"
   ]
  },
  {
   "cell_type": "code",
   "execution_count": null,
   "id": "37d6e1bb",
   "metadata": {},
   "outputs": [],
   "source": []
  },
  {
   "cell_type": "code",
   "execution_count": null,
   "id": "8ed5eb9d",
   "metadata": {},
   "outputs": [],
   "source": [
    "def canPlaceFlowers(flowerbed: list[int], n: int) -> bool:\n",
    "    count = 0\n",
    "    flowerbed = [0] + flowerbed + [0]  # Add dummy zeros at both ends\n",
    "\n",
    "    for i in range(1, len(flowerbed) - 1):\n",
    "        if flowerbed[i - 1] == 0 and flowerbed[i] == 0 and flowerbed[i + 1] == 0:\n",
    "            flowerbed[i] = 1\n",
    "            count += 1\n",
    "\n",
    "    return count >= n"
   ]
  },
  {
   "cell_type": "code",
   "execution_count": null,
   "id": "201fbc47",
   "metadata": {},
   "outputs": [],
   "source": []
  },
  {
   "cell_type": "code",
   "execution_count": null,
   "id": "70143782",
   "metadata": {},
   "outputs": [],
   "source": []
  },
  {
   "cell_type": "code",
   "execution_count": null,
   "id": "574db9c6-d222-4ae8-8136-173319f83b6f",
   "metadata": {},
   "outputs": [],
   "source": []
  },
  {
   "cell_type": "code",
   "execution_count": null,
   "id": "4580a958",
   "metadata": {},
   "outputs": [],
   "source": []
  },
  {
   "cell_type": "code",
   "execution_count": null,
   "id": "00ce13eb",
   "metadata": {},
   "outputs": [],
   "source": []
  },
  {
   "cell_type": "code",
   "execution_count": null,
   "id": "3ac14cea",
   "metadata": {},
   "outputs": [],
   "source": []
  },
  {
   "cell_type": "code",
   "execution_count": null,
   "id": "d5aad5d2",
   "metadata": {},
   "outputs": [],
   "source": []
  },
  {
   "cell_type": "code",
   "execution_count": null,
   "id": "2e4af5ba",
   "metadata": {},
   "outputs": [],
   "source": []
  },
  {
   "cell_type": "code",
   "execution_count": null,
   "id": "6e955869",
   "metadata": {},
   "outputs": [],
   "source": []
  },
  {
   "cell_type": "code",
   "execution_count": null,
   "id": "ad24e795",
   "metadata": {},
   "outputs": [],
   "source": []
  },
  {
   "cell_type": "code",
   "execution_count": null,
   "id": "3e297166",
   "metadata": {},
   "outputs": [],
   "source": []
  },
  {
   "cell_type": "code",
   "execution_count": null,
   "id": "b0901e5e",
   "metadata": {},
   "outputs": [],
   "source": []
  },
  {
   "cell_type": "code",
   "execution_count": null,
   "id": "43f5e536",
   "metadata": {},
   "outputs": [],
   "source": []
  },
  {
   "cell_type": "code",
   "execution_count": null,
   "id": "eba56837",
   "metadata": {},
   "outputs": [],
   "source": []
  },
  {
   "cell_type": "code",
   "execution_count": null,
   "id": "bc24ff63",
   "metadata": {},
   "outputs": [],
   "source": []
  },
  {
   "cell_type": "code",
   "execution_count": null,
   "id": "da97694d",
   "metadata": {},
   "outputs": [],
   "source": []
  },
  {
   "cell_type": "code",
   "execution_count": null,
   "id": "f06d30fb",
   "metadata": {},
   "outputs": [],
   "source": []
  },
  {
   "cell_type": "code",
   "execution_count": null,
   "id": "423ed053",
   "metadata": {},
   "outputs": [],
   "source": []
  }
 ],
 "metadata": {
  "kernelspec": {
   "display_name": "Python 3 (ipykernel)",
   "language": "python",
   "name": "python3"
  },
  "language_info": {
   "codemirror_mode": {
    "name": "ipython",
    "version": 3
   },
   "file_extension": ".py",
   "mimetype": "text/x-python",
   "name": "python",
   "nbconvert_exporter": "python",
   "pygments_lexer": "ipython3",
   "version": "3.13.5"
  }
 },
 "nbformat": 4,
 "nbformat_minor": 5
}
